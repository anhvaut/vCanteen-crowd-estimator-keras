{
 "cells": [
  {
   "cell_type": "markdown",
   "metadata": {},
   "source": [
    "# Capture the crowd every 5 mins\n",
    "by Akekamun Boonsith (New)"
   ]
  },
  {
   "cell_type": "code",
   "execution_count": 1,
   "metadata": {},
   "outputs": [],
   "source": [
    "import cv2\n",
    "import time\n",
    "import datetime"
   ]
  },
  {
   "cell_type": "code",
   "execution_count": 2,
   "metadata": {},
   "outputs": [],
   "source": [
    "def run():\n",
    "    cv2.namedWindow(\"Test Cam\")\n",
    "    img_counter = 0\n",
    "\n",
    "    cam = cv2.VideoCapture(0)\n",
    "    ret, frame = cam.read()\n",
    "    cv2.imshow(\"Test Cam\", frame)\n",
    "    t_end = round(int(time.time() + 300))\n",
    "    while cam.isOpened():\n",
    "        ret, frame = cam.read()\n",
    "        cv2.imshow(\"Test Cam\", frame)\n",
    "\n",
    "        key = cv2.waitKey(1)\n",
    "        \n",
    "        if round(int(time.time())) == t_end:\n",
    "            current_dt = datetime.datetime.now().strftime('%Y-%m-%d %H%M%S')\n",
    "            img_name = str(current_dt)+'.png'\n",
    "            cv2.imwrite(img_name, frame)\n",
    "            print(\"{} is written!\".format(img_name))\n",
    "            t_end = round(int(time.time() + 300))\n",
    "            \n",
    "        if key & 0xFF == ord('q'):\n",
    "            print(\"Closing the window\")\n",
    "            break\n",
    "\n",
    "        elif key%256 == 32:\n",
    "            # SPACE pressed\n",
    "            img_name = \"VCanteen_{}.png\".format(img_counter)\n",
    "            cv2.imwrite(img_name, frame)\n",
    "            print(\"{} written!\".format(img_name))\n",
    "            current_dt = datetime.datetime.now()\n",
    "            print(current_dt.strftime('%Y-%m-%d %H:%M:%S'))\n",
    "            img_counter += 1\n",
    "\n",
    "    cam.release()\n",
    "    cv2.destroyAllWindows()"
   ]
  },
  {
   "cell_type": "code",
   "execution_count": 3,
   "metadata": {},
   "outputs": [
    {
     "name": "stdout",
     "output_type": "stream",
     "text": [
      "Closing the window\n"
     ]
    }
   ],
   "source": [
    "run()"
   ]
  },
  {
   "cell_type": "code",
   "execution_count": null,
   "metadata": {},
   "outputs": [],
   "source": []
  }
 ],
 "metadata": {
  "kernelspec": {
   "display_name": "Python 3",
   "language": "python",
   "name": "python3"
  },
  "language_info": {
   "codemirror_mode": {
    "name": "ipython",
    "version": 3
   },
   "file_extension": ".py",
   "mimetype": "text/x-python",
   "name": "python",
   "nbconvert_exporter": "python",
   "pygments_lexer": "ipython3",
   "version": "3.6.6"
  }
 },
 "nbformat": 4,
 "nbformat_minor": 2
}
