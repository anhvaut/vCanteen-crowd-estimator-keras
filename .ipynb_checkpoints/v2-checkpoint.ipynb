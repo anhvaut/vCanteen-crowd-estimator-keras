{
 "cells": [
  {
   "cell_type": "code",
   "execution_count": 1,
   "metadata": {
    "collapsed": true
   },
   "outputs": [],
   "source": [
    "import numpy as np\n",
    "import matplotlib.pyplot as plt\n",
    "import os\n",
    "import cv2\n",
    "import math\n",
    "import scipy.io"
   ]
  },
  {
   "cell_type": "code",
   "execution_count": 2,
   "metadata": {
    "collapsed": true
   },
   "outputs": [],
   "source": [
    "SHANGHAI_A_TRAIN_PATH = 'ShanghaiTech/part_A/train_data/images'\n",
    "SHANGHAI_A_GT_PATH = 'ShanghaiTech/part_A/train_data/images/ground-truth'\n",
    "SHANGHAI_B_TRAIN_PATH = 'ShanghaiTech/part_B/train_data/images'\n",
    "SHANGHAI_B_GT_PATH = 'ShanghaiTech/part_B/train_data/images/ground-truth'\n",
    "ICANTEEN_TRAIN_PATH = 'image_preprocessor/data/formatted_trainval/icanteen_patches/train/'\n",
    "ICANTEEN_TRAIN_GT_PATH = 'image_preprocessor/data/formatted_trainval/icanteen_patches/train_den/'\n",
    "ICANTEEN_VAL_PATH = 'image_preprocessor/data/formatted_trainval/icanteen_patches/val/'\n",
    "ICANTEEN_VAL_GT_PATH = 'image_preprocessor/data/formatted_trainval/icanteen_patches/val_den/'\n",
    "ICANTEEN_TEST_PATH = 'icanteen_img/test/images/'\n",
    "ICANTEEN_TEST_GT_PATH = 'icanteen_img/test/ground_truth/'"
   ]
  },
  {
   "cell_type": "code",
   "execution_count": 3,
   "metadata": {},
   "outputs": [],
   "source": [
    "def preprocess_test(path):\n",
    "    print('loading testing dataset...')\n",
    "    img_names = os.listdir(path)\n",
    "    img_num = len(img_names)\n",
    "    img_names.sort()\n",
    "    \n",
    "    data = []\n",
    "    i = 1\n",
    "    for name in img_names:\n",
    "        if i % 50 == 0:\n",
    "            print('loaded:', i, '/', img_num)\n",
    "        img = cv2.imread(path+name,0)\n",
    "        norm_img = cv2.normalize(img, None, alpha=0, beta=1, \n",
    "                                 norm_type=cv2.NORM_MINMAX, \n",
    "                                 dtype=cv2.CV_32F)\n",
    "        data.append(norm_img)\n",
    "        i += 1\n",
    "    print('load data finished')\n",
    "    return data\n",
    "\n",
    "def preprocess_train(img_path, gt_path):\n",
    "    print('loading training dataset...')\n",
    "    img_names = os.listdir(img_path)\n",
    "    img_num = len(img_names)\n",
    "    img_names.sort()\n",
    "\n",
    "    data = []\n",
    "    density = []\n",
    "    count = 1\n",
    "    for name in img_names:\n",
    "        if count % 100 == 0:\n",
    "            print(count, '/', img_num)\n",
    "        count += 1\n",
    "        img = cv2.imread(img_path + name, 0)\n",
    "        img = np.array(img)\n",
    "        norm_img = cv2.normalize(img, None, alpha=0, beta=1, \n",
    "                             norm_type=cv2.NORM_MINMAX, \n",
    "                             dtype=cv2.CV_32F)\n",
    "        den = np.loadtxt(open(gt_path + name[:-4] + '.csv'), delimiter = \",\")\n",
    "        den_quarter = np.zeros((int(den.shape[0] / 4), int(den.shape[1] / 4)))\n",
    "        for i in range(len(den_quarter)):\n",
    "            for j in range(len(den_quarter[0])):\n",
    "                for p in range(4):\n",
    "                    for q in range(4):\n",
    "                        den_quarter[i][j] += den[i * 4 + p][j * 4 + q]\n",
    "        data.append(np.reshape(norm_img, [norm_img.shape[0], norm_img.shape[1], 1]))\n",
    "        density.append(np.reshape(den_quarter, [den_quarter.shape[0], den_quarter.shape[1], 1]))\n",
    "    data = np.array(data)\n",
    "    density = np.array(density)\n",
    "    print('load training data finished')\n",
    "    return (data, density)\n",
    "        \n",
    "def get_ground_truth(path):\n",
    "    print('loading ground truth...')\n",
    "    gt_names = os.listdir(path)\n",
    "    gt_names.sort()\n",
    "    gt = []\n",
    "    i = 1\n",
    "    for file in gt_names:\n",
    "        mat = scipy.io.loadmat(path+file)\n",
    "        gt.append(mat['image_info'][0][0][0][0][1][0][0])\n",
    "        i += 1\n",
    "    print('load ground truth finished')\n",
    "    return gt"
   ]
  },
  {
   "cell_type": "code",
   "execution_count": 4,
   "metadata": {},
   "outputs": [
    {
     "name": "stderr",
     "output_type": "stream",
     "text": [
      "Using TensorFlow backend.\n"
     ]
    }
   ],
   "source": [
    "from keras.layers import Dense, Input, Conv2D, MaxPooling2D, concatenate\n",
    "from keras.models import Model\n",
    "from keras.optimizers import Adam, SGD\n",
    "\n",
    "def get_MCNN():    \n",
    "    input1 = Input(shape=(None, None, 1)) \n",
    "    \n",
    "    # S\n",
    "    xs = Conv2D(24, kernel_size = (5,5), padding = 'same', activation = 'relu')(input1)   \n",
    "    xs = MaxPooling2D(pool_size = (2,2))(xs)\n",
    "    xs = Conv2D(48, kernel_size = (3,3), padding = 'same', activation = 'relu')(xs)\n",
    "    xs = MaxPooling2D(pool_size = (2,2))(xs)\n",
    "    xs = Conv2D(24, kernel_size = (3,3), padding = 'same', activation = 'relu')(xs)\n",
    "    xs = Conv2D(12, kernel_size = (3,3), padding = 'same', activation = 'relu')(xs)\n",
    "    \n",
    "    # M\n",
    "    xm = Conv2D(20, kernel_size = (7,7), padding = 'same', activation = 'relu')(input1)   \n",
    "    xm = MaxPooling2D(pool_size = (2,2))(xm)\n",
    "    xm = Conv2D(40, kernel_size = (5,5), padding = 'same', activation = 'relu')(xm)\n",
    "    xm = MaxPooling2D(pool_size = (2,2))(xm)\n",
    "    xm = Conv2D(20, kernel_size = (5,5), padding = 'same', activation = 'relu')(xm)\n",
    "    xm = Conv2D(10, kernel_size = (5,5), padding = 'same', activation = 'relu')(xm)\n",
    "    \n",
    "    # L\n",
    "    xl = Conv2D(16, kernel_size = (9,9), padding = 'same', activation = 'relu')(input1)   \n",
    "    xl = MaxPooling2D(pool_size = (2,2))(xl)\n",
    "    xl = Conv2D(32, kernel_size = (7,7), padding = 'same', activation = 'relu')(xl)\n",
    "    xl = MaxPooling2D(pool_size = (2,2))(xl)\n",
    "    xl = Conv2D(16, kernel_size = (7,7), padding = 'same', activation = 'relu')(xl)\n",
    "    xl = Conv2D(8, kernel_size = (7,7), padding = 'same', activation = 'relu')(xl)\n",
    "    \n",
    "    x = concatenate([xm, xs, xl])\n",
    "    out = Conv2D(1, kernel_size = (1,1), padding = 'same')(x)\n",
    "    \n",
    "    model = Model(inputs=input1, outputs=out)\n",
    "\n",
    "    return model"
   ]
  },
  {
   "cell_type": "code",
   "execution_count": 5,
   "metadata": {
    "scrolled": true
   },
   "outputs": [
    {
     "name": "stdout",
     "output_type": "stream",
     "text": [
      "loading training dataset...\n",
      "100 / 252\n",
      "200 / 252\n",
      "load training data finished\n",
      "loading training dataset...\n",
      "load training data finished\n"
     ]
    }
   ],
   "source": [
    "train, train_den = preprocess_train(ICANTEEN_TRAIN_PATH, ICANTEEN_TRAIN_GT_PATH)\n",
    "val, val_den = preprocess_train(ICANTEEN_VAL_PATH, ICANTEEN_VAL_GT_PATH)"
   ]
  },
  {
   "cell_type": "code",
   "execution_count": 5,
   "metadata": {},
   "outputs": [
    {
     "name": "stdout",
     "output_type": "stream",
     "text": [
      "__________________________________________________________________________________________________\n",
      "Layer (type)                    Output Shape         Param #     Connected to                     \n",
      "==================================================================================================\n",
      "input_1 (InputLayer)            (None, None, None, 1 0                                            \n",
      "__________________________________________________________________________________________________\n",
      "conv2d_5 (Conv2D)               (None, None, None, 2 1000        input_1[0][0]                    \n",
      "__________________________________________________________________________________________________\n",
      "conv2d_1 (Conv2D)               (None, None, None, 2 624         input_1[0][0]                    \n",
      "__________________________________________________________________________________________________\n",
      "conv2d_9 (Conv2D)               (None, None, None, 1 1312        input_1[0][0]                    \n",
      "__________________________________________________________________________________________________\n",
      "max_pooling2d_3 (MaxPooling2D)  (None, None, None, 2 0           conv2d_5[0][0]                   \n",
      "__________________________________________________________________________________________________\n",
      "max_pooling2d_1 (MaxPooling2D)  (None, None, None, 2 0           conv2d_1[0][0]                   \n",
      "__________________________________________________________________________________________________\n",
      "max_pooling2d_5 (MaxPooling2D)  (None, None, None, 1 0           conv2d_9[0][0]                   \n",
      "__________________________________________________________________________________________________\n",
      "conv2d_6 (Conv2D)               (None, None, None, 4 20040       max_pooling2d_3[0][0]            \n",
      "__________________________________________________________________________________________________\n",
      "conv2d_2 (Conv2D)               (None, None, None, 4 10416       max_pooling2d_1[0][0]            \n",
      "__________________________________________________________________________________________________\n",
      "conv2d_10 (Conv2D)              (None, None, None, 3 25120       max_pooling2d_5[0][0]            \n",
      "__________________________________________________________________________________________________\n",
      "max_pooling2d_4 (MaxPooling2D)  (None, None, None, 4 0           conv2d_6[0][0]                   \n",
      "__________________________________________________________________________________________________\n",
      "max_pooling2d_2 (MaxPooling2D)  (None, None, None, 4 0           conv2d_2[0][0]                   \n",
      "__________________________________________________________________________________________________\n",
      "max_pooling2d_6 (MaxPooling2D)  (None, None, None, 3 0           conv2d_10[0][0]                  \n",
      "__________________________________________________________________________________________________\n",
      "conv2d_7 (Conv2D)               (None, None, None, 2 20020       max_pooling2d_4[0][0]            \n",
      "__________________________________________________________________________________________________\n",
      "conv2d_3 (Conv2D)               (None, None, None, 2 10392       max_pooling2d_2[0][0]            \n",
      "__________________________________________________________________________________________________\n",
      "conv2d_11 (Conv2D)              (None, None, None, 1 25104       max_pooling2d_6[0][0]            \n",
      "__________________________________________________________________________________________________\n",
      "conv2d_8 (Conv2D)               (None, None, None, 1 5010        conv2d_7[0][0]                   \n",
      "__________________________________________________________________________________________________\n",
      "conv2d_4 (Conv2D)               (None, None, None, 1 2604        conv2d_3[0][0]                   \n",
      "__________________________________________________________________________________________________\n",
      "conv2d_12 (Conv2D)              (None, None, None, 8 6280        conv2d_11[0][0]                  \n",
      "__________________________________________________________________________________________________\n",
      "concatenate_1 (Concatenate)     (None, None, None, 3 0           conv2d_8[0][0]                   \n",
      "                                                                 conv2d_4[0][0]                   \n",
      "                                                                 conv2d_12[0][0]                  \n",
      "__________________________________________________________________________________________________\n",
      "conv2d_13 (Conv2D)              (None, None, None, 1 31          concatenate_1[0][0]              \n",
      "==================================================================================================\n",
      "Total params: 127,953\n",
      "Trainable params: 127,953\n",
      "Non-trainable params: 0\n",
      "__________________________________________________________________________________________________\n"
     ]
    }
   ],
   "source": [
    "model = get_MCNN()\n",
    "model.load_weights('keras_weight/weights.h5')\n",
    "# len_layers = len(model.layers)\n",
    "# for layer in model.layers[:20]:\n",
    "#     layer.trainable=False\n",
    "# for layer in model.layers[20:]:\n",
    "#     layer.trainable=True\n",
    "model.summary()"
   ]
  },
  {
   "cell_type": "code",
   "execution_count": 7,
   "metadata": {},
   "outputs": [],
   "source": [
    "from keras.preprocessing.image import ImageDataGenerator\n",
    "\n",
    "epochs = 2\n",
    "batch_size = 1"
   ]
  },
  {
   "cell_type": "code",
   "execution_count": 18,
   "metadata": {
    "scrolled": false
   },
   "outputs": [
    {
     "name": "stdout",
     "output_type": "stream",
     "text": [
      "start training MCNN...\n",
      "Train on 252 samples, validate on 18 samples\n",
      "Epoch 1/2\n",
      "252/252 [==============================] - 4s 17ms/step - loss: 0.0012 - mean_absolute_error: 0.0012 - val_loss: 0.0012 - val_mean_absolute_error: 0.0012\n",
      "Epoch 2/2\n",
      "252/252 [==============================] - 3s 12ms/step - loss: 0.0012 - mean_absolute_error: 0.0012 - val_loss: 0.0012 - val_mean_absolute_error: 0.0012\n"
     ]
    }
   ],
   "source": [
    "model.compile(loss='mae',\n",
    "              optimizer=Adam(0.0001),\n",
    "              metrics=['mae'])\n",
    "\n",
    "print('start training MCNN...')\n",
    "history = model.fit(train, train_den,\n",
    "                   validation_data = (val, val_den),\n",
    "                   epochs = epochs, batch_size = batch_size,\n",
    "                   verbose = 1)"
   ]
  },
  {
   "cell_type": "code",
   "execution_count": 19,
   "metadata": {},
   "outputs": [
    {
     "data": {
      "image/png": "[encoded data removed]",
      "text/plain": [
       "<matplotlib.figure.Figure at 0x7f4d49ae0b00>"
      ]
     },
     "metadata": {},
     "output_type": "display_data"
    },
    {
     "data": {
      "image/png": "[encoded data removed]",
      "text/plain": [
       "<matplotlib.figure.Figure at 0x7f4d49479f28>"
      ]
     },
     "metadata": {},
     "output_type": "display_data"
    }
   ],
   "source": [
    "mae = history.history['mean_absolute_error']\n",
    "val_mae = history.history['val_mean_absolute_error']\n",
    "loss = history.history['loss']\n",
    "val_loss = history.history['val_loss']\n",
    " \n",
    "epochs = range(len(mae))\n",
    " \n",
    "plt.plot(epochs, mae, 'b', label='Training mae')\n",
    "plt.plot(epochs, val_mae, 'r', label='Validation mae')\n",
    "plt.title('Training and validation MAE')\n",
    "plt.legend()\n",
    " \n",
    "plt.show()\n",
    " \n",
    "plt.plot(epochs, loss, 'b', label='Training loss')\n",
    "plt.plot(epochs, val_loss, 'r', label='Validation loss')\n",
    "plt.title('Training and validation loss')\n",
    "plt.legend()\n",
    " \n",
    "plt.show()"
   ]
  },
  {
   "cell_type": "code",
   "execution_count": 7,
   "metadata": {},
   "outputs": [
    {
     "name": "stdout",
     "output_type": "stream",
     "text": [
      "loading testing dataset...\n",
      "load data finished\n"
     ]
    }
   ],
   "source": [
    "data = preprocess_test(ICANTEEN_TEST_PATH)"
   ]
  },
  {
   "cell_type": "code",
   "execution_count": 8,
   "metadata": {},
   "outputs": [
    {
     "name": "stdout",
     "output_type": "stream",
     "text": [
      "loading ground truth...\n",
      "load ground truth finished\n",
      "==========IMG_36.jpg==========\n",
      "IMG_36 predicted  20.0 people\n",
      "IMG_36 actual 170 people\n",
      "ERROR: 150.0\n",
      "current MAE: 150.0\n",
      "current MSE: 150.0\n",
      "==========IMG_37.jpg==========\n",
      "IMG_37 predicted  19.0 people\n",
      "IMG_37 actual 203 people\n",
      "ERROR: 184.0\n",
      "current MAE: 167.0\n",
      "current MSE: 167.86303941\n",
      "==========IMG_38.jpg==========\n",
      "IMG_38 predicted  23.0 people\n",
      "IMG_38 actual 209 people\n",
      "ERROR: 186.0\n",
      "current MAE: 173.333333333\n",
      "current MSE: 174.118733436\n",
      "==========IMG_39.jpg==========\n",
      "IMG_39 predicted  22.0 people\n",
      "IMG_39 actual 144 people\n",
      "ERROR: 122.0\n",
      "current MAE: 160.5\n",
      "current MSE: 162.662226715\n",
      "==========IMG_40.jpg==========\n",
      "IMG_40 predicted  18.0 people\n",
      "IMG_40 actual 130 people\n",
      "ERROR: 112.0\n",
      "current MAE: 150.8\n",
      "current MSE: 153.870075063\n",
      "==========IMG_41.jpg==========\n",
      "IMG_41 predicted  19.0 people\n",
      "IMG_41 actual 135 people\n",
      "ERROR: 116.0\n",
      "current MAE: 145.0\n",
      "current MSE: 148.231800457\n",
      "==========IMG_42.jpg==========\n",
      "IMG_42 predicted  23.0 people\n",
      "IMG_42 actual 183 people\n",
      "ERROR: 160.0\n",
      "current MAE: 147.142857143\n",
      "current MSE: 149.969520713\n",
      "==========IMG_43.jpg==========\n",
      "IMG_43 predicted  21.0 people\n",
      "IMG_43 actual 205 people\n",
      "ERROR: 184.0\n",
      "current MAE: 151.75\n",
      "current MSE: 154.633437522\n",
      "==========IMG_44.jpg==========\n",
      "IMG_44 predicted  23.0 people\n",
      "IMG_44 actual 193 people\n",
      "ERROR: 170.0\n",
      "current MAE: 153.777777778\n",
      "current MSE: 156.415401345\n",
      "==========IMG_45.jpg==========\n",
      "IMG_45 predicted  21.0 people\n",
      "IMG_45 actual 152 people\n",
      "ERROR: 131.0\n",
      "current MAE: 151.5\n",
      "current MSE: 154.062649594\n",
      "Mean Absolute Error: 151.5\n",
      "Mean Square Error: 154.06264959424786\n"
     ]
    },
    {
     "data": {
      "image/png": "[encoded data removed]",
      "text/plain": [
       "<matplotlib.figure.Figure at 0x7f6f54101da0>"
      ]
     },
     "metadata": {},
     "output_type": "display_data"
    }
   ],
   "source": [
    "mae = 0\n",
    "mse = 0\n",
    "ground_truth = get_ground_truth(ICANTEEN_TEST_GT_PATH)\n",
    "pred = []\n",
    "\n",
    "initial_num = 36\n",
    "i = 0\n",
    "for d in data:\n",
    "    inputs = np.reshape(d, [1, d.shape[0], d.shape[1], 1])\n",
    "    outputs = model.predict(inputs)\n",
    "    c_pre = round(np.sum(outputs))\n",
    "    pred.append(c_pre)\n",
    "    print('='*10+'IMG_'+str(i+initial_num)+'.jpg'+'='*10)\n",
    "    print('IMG_'+str(i+initial_num),'predicted ', c_pre,'people')\n",
    "    print('IMG_'+str(i+initial_num),'actual',ground_truth[i], 'people')\n",
    "    mae += abs(ground_truth[i]-c_pre)\n",
    "    mse += (ground_truth[i]-c_pre)**2\n",
    "    print('ERROR:',abs(ground_truth[i]-c_pre))\n",
    "    print('current MAE:',mae/(i+1))\n",
    "    print('current MSE:',(mse/(i+1))**0.5)\n",
    "    \n",
    "    den = outputs.reshape(outputs.shape[1], outputs.shape[2])\n",
    "    i += 1\n",
    "    \n",
    "print('Mean Absolute Error:',mae/len(ground_truth))\n",
    "print('Mean Square Error:',math.sqrt(mse/len(ground_truth)))\n",
    "\n",
    "plt.figure(figsize=(20, 10))\n",
    "plt.plot(np.arange(1,len(ground_truth)+1),ground_truth, marker='x')\n",
    "plt.plot(np.arange(1,len(ground_truth)+1),pred, marker='x')\n",
    "plt.xticks(np.arange(1,len(ground_truth)+1))\n",
    "plt.xlabel('Img no.')\n",
    "plt.ylabel('People')\n",
    "plt.legend(['ground truth', 'pred'])\n",
    "plt.title('Head counts Actual vs Predict')\n",
    "plt.show()"
   ]
  },
  {
   "cell_type": "code",
   "execution_count": null,
   "metadata": {
    "collapsed": true
   },
   "outputs": [],
   "source": []
  },
  {
   "cell_type": "code",
   "execution_count": null,
   "metadata": {
    "collapsed": true
   },
   "outputs": [],
   "source": []
  }
 ],
 "metadata": {
  "kernelspec": {
   "display_name": "Python 3",
   "language": "python",
   "name": "python3"
  },
  "language_info": {
   "codemirror_mode": {
    "name": "ipython",
    "version": 3
   },
   "file_extension": ".py",
   "mimetype": "text/x-python",
   "name": "python",
   "nbconvert_exporter": "python",
   "pygments_lexer": "ipython3",
   "version": "3.5.4"
  }
 },
 "nbformat": 4,
 "nbformat_minor": 2
}
